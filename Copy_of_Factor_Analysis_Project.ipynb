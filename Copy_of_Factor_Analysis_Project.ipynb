{
  "nbformat": 4,
  "nbformat_minor": 0,
  "metadata": {
    "colab": {
      "name": "Copy of Factor Analysis Project.ipynb",
      "provenance": []
    },
    "kernelspec": {
      "name": "python3",
      "display_name": "Python 3"
    },
    "language_info": {
      "name": "python"
    }
  },
  "cells": [
    {
      "cell_type": "code",
      "execution_count": null,
      "metadata": {
        "colab": {
          "base_uri": "https://localhost:8080/"
        },
        "id": "baOWMRK8sKPE",
        "outputId": "9d61ad8d-7447-42df-b43a-c332b7092802"
      },
      "outputs": [
        {
          "output_type": "stream",
          "name": "stdout",
          "text": [
            "Collecting factor_analyzer\n",
            "  Downloading factor_analyzer-0.4.0.tar.gz (41 kB)\n",
            "\u001b[?25l\r\u001b[K     |███████▉                        | 10 kB 23.0 MB/s eta 0:00:01\r\u001b[K     |███████████████▊                | 20 kB 12.5 MB/s eta 0:00:01\r\u001b[K     |███████████████████████▋        | 30 kB 9.7 MB/s eta 0:00:01\r\u001b[K     |███████████████████████████████▌| 40 kB 8.8 MB/s eta 0:00:01\r\u001b[K     |████████████████████████████████| 41 kB 281 kB/s \n",
            "\u001b[?25hRequirement already satisfied: pandas in /usr/local/lib/python3.7/dist-packages (from factor_analyzer) (1.1.5)\n",
            "Requirement already satisfied: scipy in /usr/local/lib/python3.7/dist-packages (from factor_analyzer) (1.4.1)\n",
            "Requirement already satisfied: numpy in /usr/local/lib/python3.7/dist-packages (from factor_analyzer) (1.19.5)\n",
            "Requirement already satisfied: scikit-learn in /usr/local/lib/python3.7/dist-packages (from factor_analyzer) (1.0.1)\n",
            "Requirement already satisfied: python-dateutil>=2.7.3 in /usr/local/lib/python3.7/dist-packages (from pandas->factor_analyzer) (2.8.2)\n",
            "Requirement already satisfied: pytz>=2017.2 in /usr/local/lib/python3.7/dist-packages (from pandas->factor_analyzer) (2018.9)\n",
            "Requirement already satisfied: six>=1.5 in /usr/local/lib/python3.7/dist-packages (from python-dateutil>=2.7.3->pandas->factor_analyzer) (1.15.0)\n",
            "Requirement already satisfied: joblib>=0.11 in /usr/local/lib/python3.7/dist-packages (from scikit-learn->factor_analyzer) (1.1.0)\n",
            "Requirement already satisfied: threadpoolctl>=2.0.0 in /usr/local/lib/python3.7/dist-packages (from scikit-learn->factor_analyzer) (3.0.0)\n",
            "Building wheels for collected packages: factor-analyzer\n",
            "  Building wheel for factor-analyzer (setup.py) ... \u001b[?25l\u001b[?25hdone\n",
            "  Created wheel for factor-analyzer: filename=factor_analyzer-0.4.0-py3-none-any.whl size=41455 sha256=eb07d76a40041bc5cb22ea5d81e47a5e636e7077b906cdf361c12e27c2878ded\n",
            "  Stored in directory: /root/.cache/pip/wheels/ac/00/37/1f0e8a5039f9e9f207c4405bbce0796f07701eb377bfc6cc76\n",
            "Successfully built factor-analyzer\n",
            "Installing collected packages: factor-analyzer\n",
            "Successfully installed factor-analyzer-0.4.0\n"
          ]
        }
      ],
      "source": [
        "pip install factor_analyzer"
      ]
    },
    {
      "cell_type": "markdown",
      "source": [
        "#Aim:To perform factor analysis i.e to reduce dimensions of given data based on shared variance\n",
        "#Problem Statement:Consider a standard dataset and use statistical tool to perform Factor Analysis\n",
        "#Dataset:-Product customer survey data for 100 customers"
      ],
      "metadata": {
        "id": "mnqHP1AWK-f5"
      }
    },
    {
      "cell_type": "code",
      "source": [
        "# Import required libraries\n",
        "import pandas as pd\n",
        "from factor_analyzer import FactorAnalyzer\n",
        "import matplotlib.pyplot as plt"
      ],
      "metadata": {
        "id": "pDi64FQ2st8e"
      },
      "execution_count": null,
      "outputs": []
    },
    {
      "cell_type": "code",
      "source": [
        "df= pd.read_csv(\"/content/Factor-Hair-Revised (1).csv\")\n",
        "df.columns"
      ],
      "metadata": {
        "colab": {
          "base_uri": "https://localhost:8080/"
        },
        "id": "-DvlLRgNuXIh",
        "outputId": "6feb0df0-a3f4-4d2d-8875-28fe52226a15"
      },
      "execution_count": null,
      "outputs": [
        {
          "output_type": "execute_result",
          "data": {
            "text/plain": [
              "Index(['ID', 'ProdQual', 'Ecom', 'TechSup', 'CompRes', 'Advertising',\n",
              "       'ProdLine', 'SalesFImage', 'ComPricing', 'WartyClaim', 'OrdBilling',\n",
              "       'DelSpeed', 'Satisfaction'],\n",
              "      dtype='object')"
            ]
          },
          "metadata": {},
          "execution_count": 34
        }
      ]
    },
    {
      "cell_type": "code",
      "source": [
        "df.head()"
      ],
      "metadata": {
        "colab": {
          "base_uri": "https://localhost:8080/",
          "height": 270
        },
        "id": "mRWMHxe7x25w",
        "outputId": "080d0bba-4101-4917-8c1b-62280f2757d6"
      },
      "execution_count": null,
      "outputs": [
        {
          "output_type": "execute_result",
          "data": {
            "text/html": [
              "\n",
              "  <div id=\"df-78460f4c-2500-41df-b44c-aa2b313a6994\">\n",
              "    <div class=\"colab-df-container\">\n",
              "      <div>\n",
              "<style scoped>\n",
              "    .dataframe tbody tr th:only-of-type {\n",
              "        vertical-align: middle;\n",
              "    }\n",
              "\n",
              "    .dataframe tbody tr th {\n",
              "        vertical-align: top;\n",
              "    }\n",
              "\n",
              "    .dataframe thead th {\n",
              "        text-align: right;\n",
              "    }\n",
              "</style>\n",
              "<table border=\"1\" class=\"dataframe\">\n",
              "  <thead>\n",
              "    <tr style=\"text-align: right;\">\n",
              "      <th></th>\n",
              "      <th>ID</th>\n",
              "      <th>ProdQual</th>\n",
              "      <th>Ecom</th>\n",
              "      <th>TechSup</th>\n",
              "      <th>CompRes</th>\n",
              "      <th>Advertising</th>\n",
              "      <th>ProdLine</th>\n",
              "      <th>SalesFImage</th>\n",
              "      <th>ComPricing</th>\n",
              "      <th>WartyClaim</th>\n",
              "      <th>OrdBilling</th>\n",
              "      <th>DelSpeed</th>\n",
              "      <th>Satisfaction</th>\n",
              "    </tr>\n",
              "  </thead>\n",
              "  <tbody>\n",
              "    <tr>\n",
              "      <th>0</th>\n",
              "      <td>1</td>\n",
              "      <td>8.5</td>\n",
              "      <td>3.9</td>\n",
              "      <td>2.5</td>\n",
              "      <td>5.9</td>\n",
              "      <td>4.8</td>\n",
              "      <td>4.9</td>\n",
              "      <td>6.0</td>\n",
              "      <td>6.8</td>\n",
              "      <td>4.7</td>\n",
              "      <td>5.0</td>\n",
              "      <td>3.7</td>\n",
              "      <td>8.2</td>\n",
              "    </tr>\n",
              "    <tr>\n",
              "      <th>1</th>\n",
              "      <td>2</td>\n",
              "      <td>8.2</td>\n",
              "      <td>2.7</td>\n",
              "      <td>5.1</td>\n",
              "      <td>7.2</td>\n",
              "      <td>3.4</td>\n",
              "      <td>7.9</td>\n",
              "      <td>3.1</td>\n",
              "      <td>5.3</td>\n",
              "      <td>5.5</td>\n",
              "      <td>3.9</td>\n",
              "      <td>4.9</td>\n",
              "      <td>5.7</td>\n",
              "    </tr>\n",
              "    <tr>\n",
              "      <th>2</th>\n",
              "      <td>3</td>\n",
              "      <td>9.2</td>\n",
              "      <td>3.4</td>\n",
              "      <td>5.6</td>\n",
              "      <td>5.6</td>\n",
              "      <td>5.4</td>\n",
              "      <td>7.4</td>\n",
              "      <td>5.8</td>\n",
              "      <td>4.5</td>\n",
              "      <td>6.2</td>\n",
              "      <td>5.4</td>\n",
              "      <td>4.5</td>\n",
              "      <td>8.9</td>\n",
              "    </tr>\n",
              "    <tr>\n",
              "      <th>3</th>\n",
              "      <td>4</td>\n",
              "      <td>6.4</td>\n",
              "      <td>3.3</td>\n",
              "      <td>7.0</td>\n",
              "      <td>3.7</td>\n",
              "      <td>4.7</td>\n",
              "      <td>4.7</td>\n",
              "      <td>4.5</td>\n",
              "      <td>8.8</td>\n",
              "      <td>7.0</td>\n",
              "      <td>4.3</td>\n",
              "      <td>3.0</td>\n",
              "      <td>4.8</td>\n",
              "    </tr>\n",
              "    <tr>\n",
              "      <th>4</th>\n",
              "      <td>5</td>\n",
              "      <td>9.0</td>\n",
              "      <td>3.4</td>\n",
              "      <td>5.2</td>\n",
              "      <td>4.6</td>\n",
              "      <td>2.2</td>\n",
              "      <td>6.0</td>\n",
              "      <td>4.5</td>\n",
              "      <td>6.8</td>\n",
              "      <td>6.1</td>\n",
              "      <td>4.5</td>\n",
              "      <td>3.5</td>\n",
              "      <td>7.1</td>\n",
              "    </tr>\n",
              "  </tbody>\n",
              "</table>\n",
              "</div>\n",
              "      <button class=\"colab-df-convert\" onclick=\"convertToInteractive('df-78460f4c-2500-41df-b44c-aa2b313a6994')\"\n",
              "              title=\"Convert this dataframe to an interactive table.\"\n",
              "              style=\"display:none;\">\n",
              "        \n",
              "  <svg xmlns=\"http://www.w3.org/2000/svg\" height=\"24px\"viewBox=\"0 0 24 24\"\n",
              "       width=\"24px\">\n",
              "    <path d=\"M0 0h24v24H0V0z\" fill=\"none\"/>\n",
              "    <path d=\"M18.56 5.44l.94 2.06.94-2.06 2.06-.94-2.06-.94-.94-2.06-.94 2.06-2.06.94zm-11 1L8.5 8.5l.94-2.06 2.06-.94-2.06-.94L8.5 2.5l-.94 2.06-2.06.94zm10 10l.94 2.06.94-2.06 2.06-.94-2.06-.94-.94-2.06-.94 2.06-2.06.94z\"/><path d=\"M17.41 7.96l-1.37-1.37c-.4-.4-.92-.59-1.43-.59-.52 0-1.04.2-1.43.59L10.3 9.45l-7.72 7.72c-.78.78-.78 2.05 0 2.83L4 21.41c.39.39.9.59 1.41.59.51 0 1.02-.2 1.41-.59l7.78-7.78 2.81-2.81c.8-.78.8-2.07 0-2.86zM5.41 20L4 18.59l7.72-7.72 1.47 1.35L5.41 20z\"/>\n",
              "  </svg>\n",
              "      </button>\n",
              "      \n",
              "  <style>\n",
              "    .colab-df-container {\n",
              "      display:flex;\n",
              "      flex-wrap:wrap;\n",
              "      gap: 12px;\n",
              "    }\n",
              "\n",
              "    .colab-df-convert {\n",
              "      background-color: #E8F0FE;\n",
              "      border: none;\n",
              "      border-radius: 50%;\n",
              "      cursor: pointer;\n",
              "      display: none;\n",
              "      fill: #1967D2;\n",
              "      height: 32px;\n",
              "      padding: 0 0 0 0;\n",
              "      width: 32px;\n",
              "    }\n",
              "\n",
              "    .colab-df-convert:hover {\n",
              "      background-color: #E2EBFA;\n",
              "      box-shadow: 0px 1px 2px rgba(60, 64, 67, 0.3), 0px 1px 3px 1px rgba(60, 64, 67, 0.15);\n",
              "      fill: #174EA6;\n",
              "    }\n",
              "\n",
              "    [theme=dark] .colab-df-convert {\n",
              "      background-color: #3B4455;\n",
              "      fill: #D2E3FC;\n",
              "    }\n",
              "\n",
              "    [theme=dark] .colab-df-convert:hover {\n",
              "      background-color: #434B5C;\n",
              "      box-shadow: 0px 1px 3px 1px rgba(0, 0, 0, 0.15);\n",
              "      filter: drop-shadow(0px 1px 2px rgba(0, 0, 0, 0.3));\n",
              "      fill: #FFFFFF;\n",
              "    }\n",
              "  </style>\n",
              "\n",
              "      <script>\n",
              "        const buttonEl =\n",
              "          document.querySelector('#df-78460f4c-2500-41df-b44c-aa2b313a6994 button.colab-df-convert');\n",
              "        buttonEl.style.display =\n",
              "          google.colab.kernel.accessAllowed ? 'block' : 'none';\n",
              "\n",
              "        async function convertToInteractive(key) {\n",
              "          const element = document.querySelector('#df-78460f4c-2500-41df-b44c-aa2b313a6994');\n",
              "          const dataTable =\n",
              "            await google.colab.kernel.invokeFunction('convertToInteractive',\n",
              "                                                     [key], {});\n",
              "          if (!dataTable) return;\n",
              "\n",
              "          const docLinkHtml = 'Like what you see? Visit the ' +\n",
              "            '<a target=\"_blank\" href=https://colab.research.google.com/notebooks/data_table.ipynb>data table notebook</a>'\n",
              "            + ' to learn more about interactive tables.';\n",
              "          element.innerHTML = '';\n",
              "          dataTable['output_type'] = 'display_data';\n",
              "          await google.colab.output.renderOutput(dataTable, element);\n",
              "          const docLink = document.createElement('div');\n",
              "          docLink.innerHTML = docLinkHtml;\n",
              "          element.appendChild(docLink);\n",
              "        }\n",
              "      </script>\n",
              "    </div>\n",
              "  </div>\n",
              "  "
            ],
            "text/plain": [
              "   ID  ProdQual  Ecom  TechSup  ...  WartyClaim  OrdBilling  DelSpeed  Satisfaction\n",
              "0   1       8.5   3.9      2.5  ...         4.7         5.0       3.7           8.2\n",
              "1   2       8.2   2.7      5.1  ...         5.5         3.9       4.9           5.7\n",
              "2   3       9.2   3.4      5.6  ...         6.2         5.4       4.5           8.9\n",
              "3   4       6.4   3.3      7.0  ...         7.0         4.3       3.0           4.8\n",
              "4   5       9.0   3.4      5.2  ...         6.1         4.5       3.5           7.1\n",
              "\n",
              "[5 rows x 13 columns]"
            ]
          },
          "metadata": {},
          "execution_count": 7
        }
      ]
    },
    {
      "cell_type": "code",
      "source": [
        "df.info()"
      ],
      "metadata": {
        "colab": {
          "base_uri": "https://localhost:8080/"
        },
        "id": "NYR_y3V4x6dv",
        "outputId": "91779e26-7fe7-4a2f-c1cd-323d5b85e3b3"
      },
      "execution_count": null,
      "outputs": [
        {
          "output_type": "stream",
          "name": "stdout",
          "text": [
            "<class 'pandas.core.frame.DataFrame'>\n",
            "RangeIndex: 100 entries, 0 to 99\n",
            "Data columns (total 13 columns):\n",
            " #   Column        Non-Null Count  Dtype  \n",
            "---  ------        --------------  -----  \n",
            " 0   ID            100 non-null    int64  \n",
            " 1   ProdQual      100 non-null    float64\n",
            " 2   Ecom          100 non-null    float64\n",
            " 3   TechSup       100 non-null    float64\n",
            " 4   CompRes       100 non-null    float64\n",
            " 5   Advertising   100 non-null    float64\n",
            " 6   ProdLine      100 non-null    float64\n",
            " 7   SalesFImage   100 non-null    float64\n",
            " 8   ComPricing    100 non-null    float64\n",
            " 9   WartyClaim    100 non-null    float64\n",
            " 10  OrdBilling    100 non-null    float64\n",
            " 11  DelSpeed      100 non-null    float64\n",
            " 12  Satisfaction  100 non-null    float64\n",
            "dtypes: float64(12), int64(1)\n",
            "memory usage: 10.3 KB\n"
          ]
        }
      ]
    },
    {
      "cell_type": "code",
      "source": [
        "# Using Bartlett’s test\n",
        "#since the p-value is less than the critical value of 0.05\n",
        "#reject the null hypothesis\n",
        "from factor_analyzer.factor_analyzer import calculate_bartlett_sphericity\n",
        "chi_square_value,p_value=calculate_bartlett_sphericity(df)\n",
        "chi_square_value, p_value\n"
      ],
      "metadata": {
        "colab": {
          "base_uri": "https://localhost:8080/"
        },
        "id": "WBOM0KGRzy6_",
        "outputId": "3d621d46-472a-4208-8190-641a49f384d6"
      },
      "execution_count": null,
      "outputs": [
        {
          "output_type": "execute_result",
          "data": {
            "text/plain": [
              "(790.0967390758257, 2.695612955320053e-118)"
            ]
          },
          "metadata": {},
          "execution_count": 11
        }
      ]
    },
    {
      "cell_type": "code",
      "source": [
        "#Kaiser-Meyer-Olkin (KMO) Test\n",
        "from factor_analyzer.factor_analyzer import calculate_kmo\n",
        "kmo_all,kmo_model=calculate_kmo(df)\n",
        "print(kmo_all,kmo_model)"
      ],
      "metadata": {
        "colab": {
          "base_uri": "https://localhost:8080/"
        },
        "id": "aiZHsFdG2VzF",
        "outputId": "76134e5b-c026-4771-f7e7-ba09089acf11"
      },
      "execution_count": null,
      "outputs": [
        {
          "output_type": "stream",
          "name": "stdout",
          "text": [
            "[0.64715758 0.49364901 0.58493089 0.5135809  0.83229473 0.81637714\n",
            " 0.69408125 0.51642622 0.77078154 0.50711191 0.78043907 0.72081925\n",
            " 0.65796766] 0.658818006764565\n"
          ]
        }
      ]
    },
    {
      "cell_type": "code",
      "source": [
        "kmo_model"
      ],
      "metadata": {
        "colab": {
          "base_uri": "https://localhost:8080/"
        },
        "id": "en8RFl_p2bVG",
        "outputId": "93694cf6-5fbd-447b-cfcc-5c7afcc4d46c"
      },
      "execution_count": null,
      "outputs": [
        {
          "output_type": "execute_result",
          "data": {
            "text/plain": [
              "0.658818006764565"
            ]
          },
          "metadata": {},
          "execution_count": 13
        }
      ]
    },
    {
      "cell_type": "code",
      "source": [
        "df.corr()"
      ],
      "metadata": {
        "colab": {
          "base_uri": "https://localhost:8080/",
          "height": 521
        },
        "id": "1eLNlsuq2feD",
        "outputId": "35e8280d-24cb-4f20-f534-cc63f533d903"
      },
      "execution_count": null,
      "outputs": [
        {
          "output_type": "execute_result",
          "data": {
            "text/html": [
              "\n",
              "  <div id=\"df-a0c4ed18-153c-45ee-9b3a-49fc5bd04868\">\n",
              "    <div class=\"colab-df-container\">\n",
              "      <div>\n",
              "<style scoped>\n",
              "    .dataframe tbody tr th:only-of-type {\n",
              "        vertical-align: middle;\n",
              "    }\n",
              "\n",
              "    .dataframe tbody tr th {\n",
              "        vertical-align: top;\n",
              "    }\n",
              "\n",
              "    .dataframe thead th {\n",
              "        text-align: right;\n",
              "    }\n",
              "</style>\n",
              "<table border=\"1\" class=\"dataframe\">\n",
              "  <thead>\n",
              "    <tr style=\"text-align: right;\">\n",
              "      <th></th>\n",
              "      <th>ID</th>\n",
              "      <th>ProdQual</th>\n",
              "      <th>Ecom</th>\n",
              "      <th>TechSup</th>\n",
              "      <th>CompRes</th>\n",
              "      <th>Advertising</th>\n",
              "      <th>ProdLine</th>\n",
              "      <th>SalesFImage</th>\n",
              "      <th>ComPricing</th>\n",
              "      <th>WartyClaim</th>\n",
              "      <th>OrdBilling</th>\n",
              "      <th>DelSpeed</th>\n",
              "      <th>Satisfaction</th>\n",
              "    </tr>\n",
              "  </thead>\n",
              "  <tbody>\n",
              "    <tr>\n",
              "      <th>ID</th>\n",
              "      <td>1.000000</td>\n",
              "      <td>0.145774</td>\n",
              "      <td>-0.046173</td>\n",
              "      <td>0.031838</td>\n",
              "      <td>-0.144322</td>\n",
              "      <td>0.073129</td>\n",
              "      <td>-0.048641</td>\n",
              "      <td>0.013848</td>\n",
              "      <td>-0.063007</td>\n",
              "      <td>0.058592</td>\n",
              "      <td>-0.178352</td>\n",
              "      <td>-0.172134</td>\n",
              "      <td>0.061143</td>\n",
              "    </tr>\n",
              "    <tr>\n",
              "      <th>ProdQual</th>\n",
              "      <td>0.145774</td>\n",
              "      <td>1.000000</td>\n",
              "      <td>-0.137163</td>\n",
              "      <td>0.095600</td>\n",
              "      <td>0.106370</td>\n",
              "      <td>-0.053473</td>\n",
              "      <td>0.477493</td>\n",
              "      <td>-0.151813</td>\n",
              "      <td>-0.401282</td>\n",
              "      <td>0.088312</td>\n",
              "      <td>0.104303</td>\n",
              "      <td>0.027718</td>\n",
              "      <td>0.486325</td>\n",
              "    </tr>\n",
              "    <tr>\n",
              "      <th>Ecom</th>\n",
              "      <td>-0.046173</td>\n",
              "      <td>-0.137163</td>\n",
              "      <td>1.000000</td>\n",
              "      <td>0.000867</td>\n",
              "      <td>0.140179</td>\n",
              "      <td>0.429891</td>\n",
              "      <td>-0.052688</td>\n",
              "      <td>0.791544</td>\n",
              "      <td>0.229462</td>\n",
              "      <td>0.051898</td>\n",
              "      <td>0.156147</td>\n",
              "      <td>0.191636</td>\n",
              "      <td>0.282745</td>\n",
              "    </tr>\n",
              "    <tr>\n",
              "      <th>TechSup</th>\n",
              "      <td>0.031838</td>\n",
              "      <td>0.095600</td>\n",
              "      <td>0.000867</td>\n",
              "      <td>1.000000</td>\n",
              "      <td>0.096657</td>\n",
              "      <td>-0.062870</td>\n",
              "      <td>0.192625</td>\n",
              "      <td>0.016991</td>\n",
              "      <td>-0.270787</td>\n",
              "      <td>0.797168</td>\n",
              "      <td>0.080102</td>\n",
              "      <td>0.025441</td>\n",
              "      <td>0.112597</td>\n",
              "    </tr>\n",
              "    <tr>\n",
              "      <th>CompRes</th>\n",
              "      <td>-0.144322</td>\n",
              "      <td>0.106370</td>\n",
              "      <td>0.140179</td>\n",
              "      <td>0.096657</td>\n",
              "      <td>1.000000</td>\n",
              "      <td>0.196917</td>\n",
              "      <td>0.561417</td>\n",
              "      <td>0.229752</td>\n",
              "      <td>-0.127954</td>\n",
              "      <td>0.140408</td>\n",
              "      <td>0.756869</td>\n",
              "      <td>0.865092</td>\n",
              "      <td>0.603263</td>\n",
              "    </tr>\n",
              "    <tr>\n",
              "      <th>Advertising</th>\n",
              "      <td>0.073129</td>\n",
              "      <td>-0.053473</td>\n",
              "      <td>0.429891</td>\n",
              "      <td>-0.062870</td>\n",
              "      <td>0.196917</td>\n",
              "      <td>1.000000</td>\n",
              "      <td>-0.011551</td>\n",
              "      <td>0.542204</td>\n",
              "      <td>0.134217</td>\n",
              "      <td>0.010792</td>\n",
              "      <td>0.184236</td>\n",
              "      <td>0.275863</td>\n",
              "      <td>0.304669</td>\n",
              "    </tr>\n",
              "    <tr>\n",
              "      <th>ProdLine</th>\n",
              "      <td>-0.048641</td>\n",
              "      <td>0.477493</td>\n",
              "      <td>-0.052688</td>\n",
              "      <td>0.192625</td>\n",
              "      <td>0.561417</td>\n",
              "      <td>-0.011551</td>\n",
              "      <td>1.000000</td>\n",
              "      <td>-0.061316</td>\n",
              "      <td>-0.494948</td>\n",
              "      <td>0.273078</td>\n",
              "      <td>0.424408</td>\n",
              "      <td>0.601850</td>\n",
              "      <td>0.550546</td>\n",
              "    </tr>\n",
              "    <tr>\n",
              "      <th>SalesFImage</th>\n",
              "      <td>0.013848</td>\n",
              "      <td>-0.151813</td>\n",
              "      <td>0.791544</td>\n",
              "      <td>0.016991</td>\n",
              "      <td>0.229752</td>\n",
              "      <td>0.542204</td>\n",
              "      <td>-0.061316</td>\n",
              "      <td>1.000000</td>\n",
              "      <td>0.264597</td>\n",
              "      <td>0.107455</td>\n",
              "      <td>0.195127</td>\n",
              "      <td>0.271551</td>\n",
              "      <td>0.500205</td>\n",
              "    </tr>\n",
              "    <tr>\n",
              "      <th>ComPricing</th>\n",
              "      <td>-0.063007</td>\n",
              "      <td>-0.401282</td>\n",
              "      <td>0.229462</td>\n",
              "      <td>-0.270787</td>\n",
              "      <td>-0.127954</td>\n",
              "      <td>0.134217</td>\n",
              "      <td>-0.494948</td>\n",
              "      <td>0.264597</td>\n",
              "      <td>1.000000</td>\n",
              "      <td>-0.244986</td>\n",
              "      <td>-0.114567</td>\n",
              "      <td>-0.072872</td>\n",
              "      <td>-0.208296</td>\n",
              "    </tr>\n",
              "    <tr>\n",
              "      <th>WartyClaim</th>\n",
              "      <td>0.058592</td>\n",
              "      <td>0.088312</td>\n",
              "      <td>0.051898</td>\n",
              "      <td>0.797168</td>\n",
              "      <td>0.140408</td>\n",
              "      <td>0.010792</td>\n",
              "      <td>0.273078</td>\n",
              "      <td>0.107455</td>\n",
              "      <td>-0.244986</td>\n",
              "      <td>1.000000</td>\n",
              "      <td>0.197065</td>\n",
              "      <td>0.109395</td>\n",
              "      <td>0.177545</td>\n",
              "    </tr>\n",
              "    <tr>\n",
              "      <th>OrdBilling</th>\n",
              "      <td>-0.178352</td>\n",
              "      <td>0.104303</td>\n",
              "      <td>0.156147</td>\n",
              "      <td>0.080102</td>\n",
              "      <td>0.756869</td>\n",
              "      <td>0.184236</td>\n",
              "      <td>0.424408</td>\n",
              "      <td>0.195127</td>\n",
              "      <td>-0.114567</td>\n",
              "      <td>0.197065</td>\n",
              "      <td>1.000000</td>\n",
              "      <td>0.751003</td>\n",
              "      <td>0.521732</td>\n",
              "    </tr>\n",
              "    <tr>\n",
              "      <th>DelSpeed</th>\n",
              "      <td>-0.172134</td>\n",
              "      <td>0.027718</td>\n",
              "      <td>0.191636</td>\n",
              "      <td>0.025441</td>\n",
              "      <td>0.865092</td>\n",
              "      <td>0.275863</td>\n",
              "      <td>0.601850</td>\n",
              "      <td>0.271551</td>\n",
              "      <td>-0.072872</td>\n",
              "      <td>0.109395</td>\n",
              "      <td>0.751003</td>\n",
              "      <td>1.000000</td>\n",
              "      <td>0.577042</td>\n",
              "    </tr>\n",
              "    <tr>\n",
              "      <th>Satisfaction</th>\n",
              "      <td>0.061143</td>\n",
              "      <td>0.486325</td>\n",
              "      <td>0.282745</td>\n",
              "      <td>0.112597</td>\n",
              "      <td>0.603263</td>\n",
              "      <td>0.304669</td>\n",
              "      <td>0.550546</td>\n",
              "      <td>0.500205</td>\n",
              "      <td>-0.208296</td>\n",
              "      <td>0.177545</td>\n",
              "      <td>0.521732</td>\n",
              "      <td>0.577042</td>\n",
              "      <td>1.000000</td>\n",
              "    </tr>\n",
              "  </tbody>\n",
              "</table>\n",
              "</div>\n",
              "      <button class=\"colab-df-convert\" onclick=\"convertToInteractive('df-a0c4ed18-153c-45ee-9b3a-49fc5bd04868')\"\n",
              "              title=\"Convert this dataframe to an interactive table.\"\n",
              "              style=\"display:none;\">\n",
              "        \n",
              "  <svg xmlns=\"http://www.w3.org/2000/svg\" height=\"24px\"viewBox=\"0 0 24 24\"\n",
              "       width=\"24px\">\n",
              "    <path d=\"M0 0h24v24H0V0z\" fill=\"none\"/>\n",
              "    <path d=\"M18.56 5.44l.94 2.06.94-2.06 2.06-.94-2.06-.94-.94-2.06-.94 2.06-2.06.94zm-11 1L8.5 8.5l.94-2.06 2.06-.94-2.06-.94L8.5 2.5l-.94 2.06-2.06.94zm10 10l.94 2.06.94-2.06 2.06-.94-2.06-.94-.94-2.06-.94 2.06-2.06.94z\"/><path d=\"M17.41 7.96l-1.37-1.37c-.4-.4-.92-.59-1.43-.59-.52 0-1.04.2-1.43.59L10.3 9.45l-7.72 7.72c-.78.78-.78 2.05 0 2.83L4 21.41c.39.39.9.59 1.41.59.51 0 1.02-.2 1.41-.59l7.78-7.78 2.81-2.81c.8-.78.8-2.07 0-2.86zM5.41 20L4 18.59l7.72-7.72 1.47 1.35L5.41 20z\"/>\n",
              "  </svg>\n",
              "      </button>\n",
              "      \n",
              "  <style>\n",
              "    .colab-df-container {\n",
              "      display:flex;\n",
              "      flex-wrap:wrap;\n",
              "      gap: 12px;\n",
              "    }\n",
              "\n",
              "    .colab-df-convert {\n",
              "      background-color: #E8F0FE;\n",
              "      border: none;\n",
              "      border-radius: 50%;\n",
              "      cursor: pointer;\n",
              "      display: none;\n",
              "      fill: #1967D2;\n",
              "      height: 32px;\n",
              "      padding: 0 0 0 0;\n",
              "      width: 32px;\n",
              "    }\n",
              "\n",
              "    .colab-df-convert:hover {\n",
              "      background-color: #E2EBFA;\n",
              "      box-shadow: 0px 1px 2px rgba(60, 64, 67, 0.3), 0px 1px 3px 1px rgba(60, 64, 67, 0.15);\n",
              "      fill: #174EA6;\n",
              "    }\n",
              "\n",
              "    [theme=dark] .colab-df-convert {\n",
              "      background-color: #3B4455;\n",
              "      fill: #D2E3FC;\n",
              "    }\n",
              "\n",
              "    [theme=dark] .colab-df-convert:hover {\n",
              "      background-color: #434B5C;\n",
              "      box-shadow: 0px 1px 3px 1px rgba(0, 0, 0, 0.15);\n",
              "      filter: drop-shadow(0px 1px 2px rgba(0, 0, 0, 0.3));\n",
              "      fill: #FFFFFF;\n",
              "    }\n",
              "  </style>\n",
              "\n",
              "      <script>\n",
              "        const buttonEl =\n",
              "          document.querySelector('#df-a0c4ed18-153c-45ee-9b3a-49fc5bd04868 button.colab-df-convert');\n",
              "        buttonEl.style.display =\n",
              "          google.colab.kernel.accessAllowed ? 'block' : 'none';\n",
              "\n",
              "        async function convertToInteractive(key) {\n",
              "          const element = document.querySelector('#df-a0c4ed18-153c-45ee-9b3a-49fc5bd04868');\n",
              "          const dataTable =\n",
              "            await google.colab.kernel.invokeFunction('convertToInteractive',\n",
              "                                                     [key], {});\n",
              "          if (!dataTable) return;\n",
              "\n",
              "          const docLinkHtml = 'Like what you see? Visit the ' +\n",
              "            '<a target=\"_blank\" href=https://colab.research.google.com/notebooks/data_table.ipynb>data table notebook</a>'\n",
              "            + ' to learn more about interactive tables.';\n",
              "          element.innerHTML = '';\n",
              "          dataTable['output_type'] = 'display_data';\n",
              "          await google.colab.output.renderOutput(dataTable, element);\n",
              "          const docLink = document.createElement('div');\n",
              "          docLink.innerHTML = docLinkHtml;\n",
              "          element.appendChild(docLink);\n",
              "        }\n",
              "      </script>\n",
              "    </div>\n",
              "  </div>\n",
              "  "
            ],
            "text/plain": [
              "                    ID  ProdQual      Ecom  ...  OrdBilling  DelSpeed  Satisfaction\n",
              "ID            1.000000  0.145774 -0.046173  ...   -0.178352 -0.172134      0.061143\n",
              "ProdQual      0.145774  1.000000 -0.137163  ...    0.104303  0.027718      0.486325\n",
              "Ecom         -0.046173 -0.137163  1.000000  ...    0.156147  0.191636      0.282745\n",
              "TechSup       0.031838  0.095600  0.000867  ...    0.080102  0.025441      0.112597\n",
              "CompRes      -0.144322  0.106370  0.140179  ...    0.756869  0.865092      0.603263\n",
              "Advertising   0.073129 -0.053473  0.429891  ...    0.184236  0.275863      0.304669\n",
              "ProdLine     -0.048641  0.477493 -0.052688  ...    0.424408  0.601850      0.550546\n",
              "SalesFImage   0.013848 -0.151813  0.791544  ...    0.195127  0.271551      0.500205\n",
              "ComPricing   -0.063007 -0.401282  0.229462  ...   -0.114567 -0.072872     -0.208296\n",
              "WartyClaim    0.058592  0.088312  0.051898  ...    0.197065  0.109395      0.177545\n",
              "OrdBilling   -0.178352  0.104303  0.156147  ...    1.000000  0.751003      0.521732\n",
              "DelSpeed     -0.172134  0.027718  0.191636  ...    0.751003  1.000000      0.577042\n",
              "Satisfaction  0.061143  0.486325  0.282745  ...    0.521732  0.577042      1.000000\n",
              "\n",
              "[13 rows x 13 columns]"
            ]
          },
          "metadata": {},
          "execution_count": 14
        }
      ]
    },
    {
      "cell_type": "code",
      "source": [
        "df.count()"
      ],
      "metadata": {
        "colab": {
          "base_uri": "https://localhost:8080/"
        },
        "id": "DV0gi-FV2luE",
        "outputId": "68ed1e55-e579-4743-fbf2-f7afab24f344"
      },
      "execution_count": null,
      "outputs": [
        {
          "output_type": "execute_result",
          "data": {
            "text/plain": [
              "ID              100\n",
              "ProdQual        100\n",
              "Ecom            100\n",
              "TechSup         100\n",
              "CompRes         100\n",
              "Advertising     100\n",
              "ProdLine        100\n",
              "SalesFImage     100\n",
              "ComPricing      100\n",
              "WartyClaim      100\n",
              "OrdBilling      100\n",
              "DelSpeed        100\n",
              "Satisfaction    100\n",
              "dtype: int64"
            ]
          },
          "metadata": {},
          "execution_count": 15
        }
      ]
    },
    {
      "cell_type": "code",
      "source": [
        "ev, v = fa.get_eigenvalues()\n",
        "ev"
      ],
      "metadata": {
        "colab": {
          "base_uri": "https://localhost:8080/"
        },
        "id": "5FCzsiiH3Fuv",
        "outputId": "8de91170-2719-411d-8ce0-c1a56fd0239b"
      },
      "execution_count": null,
      "outputs": [
        {
          "output_type": "execute_result",
          "data": {
            "text/plain": [
              "array([4.04940851, 2.55663549, 1.72664228, 1.37065018, 0.83684981,\n",
              "       0.63100326, 0.54725102, 0.4028055 , 0.31814687, 0.23545054,\n",
              "       0.14324648, 0.09913308, 0.082777  ])"
            ]
          },
          "metadata": {},
          "execution_count": 32
        }
      ]
    },
    {
      "cell_type": "code",
      "source": [
        "fa = FactorAnalyzer(n_factors =4,rotation= 'varimax')#rotation\n",
        "fa.fit(df)"
      ],
      "metadata": {
        "colab": {
          "base_uri": "https://localhost:8080/"
        },
        "id": "bDwmPHDg2trd",
        "outputId": "dbe82c6b-1aa2-422b-ea77-3286eb9681b7"
      },
      "execution_count": null,
      "outputs": [
        {
          "output_type": "execute_result",
          "data": {
            "text/plain": [
              "FactorAnalyzer(n_factors=4, rotation='varimax', rotation_kwargs={})"
            ]
          },
          "metadata": {},
          "execution_count": 31
        }
      ]
    },
    {
      "cell_type": "code",
      "source": [
        "fa.get_factor_variance()"
      ],
      "metadata": {
        "colab": {
          "base_uri": "https://localhost:8080/"
        },
        "id": "B2RHLVq52yh1",
        "outputId": "bc899c6f-d6d3-459f-e41d-47e9d85c5bc3"
      },
      "execution_count": null,
      "outputs": [
        {
          "output_type": "execute_result",
          "data": {
            "text/plain": [
              "(array([3.41382651, 2.23368669, 1.68830695]),\n",
              " array([0.26260204, 0.17182205, 0.12986977]),\n",
              " array([0.26260204, 0.43442409, 0.56429386]))"
            ]
          },
          "metadata": {},
          "execution_count": 17
        }
      ]
    },
    {
      "cell_type": "code",
      "source": [
        "ev, v= fa.get_eigenvalues()"
      ],
      "metadata": {
        "id": "zAgzCUhJ25g-"
      },
      "execution_count": null,
      "outputs": []
    },
    {
      "cell_type": "code",
      "source": [
        "\n",
        "fa = FactorAnalyzer()\n",
        "fa.fit(df)\n",
        "\n",
        "fa.loadings_\n"
      ],
      "metadata": {
        "colab": {
          "base_uri": "https://localhost:8080/"
        },
        "id": "5vU39idP3A8U",
        "outputId": "06d50cbf-e5b5-4f07-f83d-589545b49c4e"
      },
      "execution_count": null,
      "outputs": [
        {
          "output_type": "execute_result",
          "data": {
            "text/plain": [
              "array([[-0.12633081,  0.01115193,  0.1342627 ],\n",
              "       [ 0.29448254, -0.24529257,  0.13606369],\n",
              "       [ 0.08322162,  0.78603561,  0.13622503],\n",
              "       [-0.03925901,  0.1152093 ,  0.87284577],\n",
              "       [ 0.88663428,  0.12022087, -0.09135756],\n",
              "       [ 0.18296689,  0.53592312,  0.02195601],\n",
              "       [ 0.73297674, -0.22921772,  0.14341034],\n",
              "       [ 0.14763417,  1.01366736,  0.2119462 ],\n",
              "       [-0.25594272,  0.3543333 , -0.26512841],\n",
              "       [ 0.04157586,  0.19220639,  0.88485762],\n",
              "       [ 0.75378285,  0.1339406 , -0.04402584],\n",
              "       [ 0.90097502,  0.17294165, -0.15185958],\n",
              "       [ 0.69711089,  0.28941393,  0.14366632]])"
            ]
          },
          "metadata": {},
          "execution_count": 38
        }
      ]
    },
    {
      "cell_type": "code",
      "source": [
        "df.describe()"
      ],
      "metadata": {
        "colab": {
          "base_uri": "https://localhost:8080/",
          "height": 364
        },
        "id": "jUWmQWKu3KO0",
        "outputId": "d87dcb3e-021d-4621-de94-ecb404fdada7"
      },
      "execution_count": null,
      "outputs": [
        {
          "output_type": "execute_result",
          "data": {
            "text/html": [
              "\n",
              "  <div id=\"df-5f2efbcd-355f-4a4d-b090-4e754b3693b0\">\n",
              "    <div class=\"colab-df-container\">\n",
              "      <div>\n",
              "<style scoped>\n",
              "    .dataframe tbody tr th:only-of-type {\n",
              "        vertical-align: middle;\n",
              "    }\n",
              "\n",
              "    .dataframe tbody tr th {\n",
              "        vertical-align: top;\n",
              "    }\n",
              "\n",
              "    .dataframe thead th {\n",
              "        text-align: right;\n",
              "    }\n",
              "</style>\n",
              "<table border=\"1\" class=\"dataframe\">\n",
              "  <thead>\n",
              "    <tr style=\"text-align: right;\">\n",
              "      <th></th>\n",
              "      <th>ID</th>\n",
              "      <th>ProdQual</th>\n",
              "      <th>Ecom</th>\n",
              "      <th>TechSup</th>\n",
              "      <th>CompRes</th>\n",
              "      <th>Advertising</th>\n",
              "      <th>ProdLine</th>\n",
              "      <th>SalesFImage</th>\n",
              "      <th>ComPricing</th>\n",
              "      <th>WartyClaim</th>\n",
              "      <th>OrdBilling</th>\n",
              "      <th>DelSpeed</th>\n",
              "      <th>Satisfaction</th>\n",
              "    </tr>\n",
              "  </thead>\n",
              "  <tbody>\n",
              "    <tr>\n",
              "      <th>count</th>\n",
              "      <td>100.000000</td>\n",
              "      <td>100.000000</td>\n",
              "      <td>100.000000</td>\n",
              "      <td>100.000000</td>\n",
              "      <td>100.000000</td>\n",
              "      <td>100.000000</td>\n",
              "      <td>100.000000</td>\n",
              "      <td>100.00000</td>\n",
              "      <td>100.000000</td>\n",
              "      <td>100.000000</td>\n",
              "      <td>100.00000</td>\n",
              "      <td>100.000000</td>\n",
              "      <td>100.000000</td>\n",
              "    </tr>\n",
              "    <tr>\n",
              "      <th>mean</th>\n",
              "      <td>50.500000</td>\n",
              "      <td>7.810000</td>\n",
              "      <td>3.672000</td>\n",
              "      <td>5.365000</td>\n",
              "      <td>5.442000</td>\n",
              "      <td>4.010000</td>\n",
              "      <td>5.805000</td>\n",
              "      <td>5.12300</td>\n",
              "      <td>6.974000</td>\n",
              "      <td>6.043000</td>\n",
              "      <td>4.27800</td>\n",
              "      <td>3.886000</td>\n",
              "      <td>6.918000</td>\n",
              "    </tr>\n",
              "    <tr>\n",
              "      <th>std</th>\n",
              "      <td>29.011492</td>\n",
              "      <td>1.396279</td>\n",
              "      <td>0.700516</td>\n",
              "      <td>1.530457</td>\n",
              "      <td>1.208403</td>\n",
              "      <td>1.126943</td>\n",
              "      <td>1.315285</td>\n",
              "      <td>1.07232</td>\n",
              "      <td>1.545055</td>\n",
              "      <td>0.819738</td>\n",
              "      <td>0.92884</td>\n",
              "      <td>0.734437</td>\n",
              "      <td>1.191839</td>\n",
              "    </tr>\n",
              "    <tr>\n",
              "      <th>min</th>\n",
              "      <td>1.000000</td>\n",
              "      <td>5.000000</td>\n",
              "      <td>2.200000</td>\n",
              "      <td>1.300000</td>\n",
              "      <td>2.600000</td>\n",
              "      <td>1.900000</td>\n",
              "      <td>2.300000</td>\n",
              "      <td>2.90000</td>\n",
              "      <td>3.700000</td>\n",
              "      <td>4.100000</td>\n",
              "      <td>2.00000</td>\n",
              "      <td>1.600000</td>\n",
              "      <td>4.700000</td>\n",
              "    </tr>\n",
              "    <tr>\n",
              "      <th>25%</th>\n",
              "      <td>25.750000</td>\n",
              "      <td>6.575000</td>\n",
              "      <td>3.275000</td>\n",
              "      <td>4.250000</td>\n",
              "      <td>4.600000</td>\n",
              "      <td>3.175000</td>\n",
              "      <td>4.700000</td>\n",
              "      <td>4.50000</td>\n",
              "      <td>5.875000</td>\n",
              "      <td>5.400000</td>\n",
              "      <td>3.70000</td>\n",
              "      <td>3.400000</td>\n",
              "      <td>6.000000</td>\n",
              "    </tr>\n",
              "    <tr>\n",
              "      <th>50%</th>\n",
              "      <td>50.500000</td>\n",
              "      <td>8.000000</td>\n",
              "      <td>3.600000</td>\n",
              "      <td>5.400000</td>\n",
              "      <td>5.450000</td>\n",
              "      <td>4.000000</td>\n",
              "      <td>5.750000</td>\n",
              "      <td>4.90000</td>\n",
              "      <td>7.100000</td>\n",
              "      <td>6.100000</td>\n",
              "      <td>4.40000</td>\n",
              "      <td>3.900000</td>\n",
              "      <td>7.050000</td>\n",
              "    </tr>\n",
              "    <tr>\n",
              "      <th>75%</th>\n",
              "      <td>75.250000</td>\n",
              "      <td>9.100000</td>\n",
              "      <td>3.925000</td>\n",
              "      <td>6.625000</td>\n",
              "      <td>6.325000</td>\n",
              "      <td>4.800000</td>\n",
              "      <td>6.800000</td>\n",
              "      <td>5.80000</td>\n",
              "      <td>8.400000</td>\n",
              "      <td>6.600000</td>\n",
              "      <td>4.80000</td>\n",
              "      <td>4.425000</td>\n",
              "      <td>7.625000</td>\n",
              "    </tr>\n",
              "    <tr>\n",
              "      <th>max</th>\n",
              "      <td>100.000000</td>\n",
              "      <td>10.000000</td>\n",
              "      <td>5.700000</td>\n",
              "      <td>8.500000</td>\n",
              "      <td>7.800000</td>\n",
              "      <td>6.500000</td>\n",
              "      <td>8.400000</td>\n",
              "      <td>8.20000</td>\n",
              "      <td>9.900000</td>\n",
              "      <td>8.100000</td>\n",
              "      <td>6.70000</td>\n",
              "      <td>5.500000</td>\n",
              "      <td>9.900000</td>\n",
              "    </tr>\n",
              "  </tbody>\n",
              "</table>\n",
              "</div>\n",
              "      <button class=\"colab-df-convert\" onclick=\"convertToInteractive('df-5f2efbcd-355f-4a4d-b090-4e754b3693b0')\"\n",
              "              title=\"Convert this dataframe to an interactive table.\"\n",
              "              style=\"display:none;\">\n",
              "        \n",
              "  <svg xmlns=\"http://www.w3.org/2000/svg\" height=\"24px\"viewBox=\"0 0 24 24\"\n",
              "       width=\"24px\">\n",
              "    <path d=\"M0 0h24v24H0V0z\" fill=\"none\"/>\n",
              "    <path d=\"M18.56 5.44l.94 2.06.94-2.06 2.06-.94-2.06-.94-.94-2.06-.94 2.06-2.06.94zm-11 1L8.5 8.5l.94-2.06 2.06-.94-2.06-.94L8.5 2.5l-.94 2.06-2.06.94zm10 10l.94 2.06.94-2.06 2.06-.94-2.06-.94-.94-2.06-.94 2.06-2.06.94z\"/><path d=\"M17.41 7.96l-1.37-1.37c-.4-.4-.92-.59-1.43-.59-.52 0-1.04.2-1.43.59L10.3 9.45l-7.72 7.72c-.78.78-.78 2.05 0 2.83L4 21.41c.39.39.9.59 1.41.59.51 0 1.02-.2 1.41-.59l7.78-7.78 2.81-2.81c.8-.78.8-2.07 0-2.86zM5.41 20L4 18.59l7.72-7.72 1.47 1.35L5.41 20z\"/>\n",
              "  </svg>\n",
              "      </button>\n",
              "      \n",
              "  <style>\n",
              "    .colab-df-container {\n",
              "      display:flex;\n",
              "      flex-wrap:wrap;\n",
              "      gap: 12px;\n",
              "    }\n",
              "\n",
              "    .colab-df-convert {\n",
              "      background-color: #E8F0FE;\n",
              "      border: none;\n",
              "      border-radius: 50%;\n",
              "      cursor: pointer;\n",
              "      display: none;\n",
              "      fill: #1967D2;\n",
              "      height: 32px;\n",
              "      padding: 0 0 0 0;\n",
              "      width: 32px;\n",
              "    }\n",
              "\n",
              "    .colab-df-convert:hover {\n",
              "      background-color: #E2EBFA;\n",
              "      box-shadow: 0px 1px 2px rgba(60, 64, 67, 0.3), 0px 1px 3px 1px rgba(60, 64, 67, 0.15);\n",
              "      fill: #174EA6;\n",
              "    }\n",
              "\n",
              "    [theme=dark] .colab-df-convert {\n",
              "      background-color: #3B4455;\n",
              "      fill: #D2E3FC;\n",
              "    }\n",
              "\n",
              "    [theme=dark] .colab-df-convert:hover {\n",
              "      background-color: #434B5C;\n",
              "      box-shadow: 0px 1px 3px 1px rgba(0, 0, 0, 0.15);\n",
              "      filter: drop-shadow(0px 1px 2px rgba(0, 0, 0, 0.3));\n",
              "      fill: #FFFFFF;\n",
              "    }\n",
              "  </style>\n",
              "\n",
              "      <script>\n",
              "        const buttonEl =\n",
              "          document.querySelector('#df-5f2efbcd-355f-4a4d-b090-4e754b3693b0 button.colab-df-convert');\n",
              "        buttonEl.style.display =\n",
              "          google.colab.kernel.accessAllowed ? 'block' : 'none';\n",
              "\n",
              "        async function convertToInteractive(key) {\n",
              "          const element = document.querySelector('#df-5f2efbcd-355f-4a4d-b090-4e754b3693b0');\n",
              "          const dataTable =\n",
              "            await google.colab.kernel.invokeFunction('convertToInteractive',\n",
              "                                                     [key], {});\n",
              "          if (!dataTable) return;\n",
              "\n",
              "          const docLinkHtml = 'Like what you see? Visit the ' +\n",
              "            '<a target=\"_blank\" href=https://colab.research.google.com/notebooks/data_table.ipynb>data table notebook</a>'\n",
              "            + ' to learn more about interactive tables.';\n",
              "          element.innerHTML = '';\n",
              "          dataTable['output_type'] = 'display_data';\n",
              "          await google.colab.output.renderOutput(dataTable, element);\n",
              "          const docLink = document.createElement('div');\n",
              "          docLink.innerHTML = docLinkHtml;\n",
              "          element.appendChild(docLink);\n",
              "        }\n",
              "      </script>\n",
              "    </div>\n",
              "  </div>\n",
              "  "
            ],
            "text/plain": [
              "               ID    ProdQual        Ecom  ...  OrdBilling    DelSpeed  Satisfaction\n",
              "count  100.000000  100.000000  100.000000  ...   100.00000  100.000000    100.000000\n",
              "mean    50.500000    7.810000    3.672000  ...     4.27800    3.886000      6.918000\n",
              "std     29.011492    1.396279    0.700516  ...     0.92884    0.734437      1.191839\n",
              "min      1.000000    5.000000    2.200000  ...     2.00000    1.600000      4.700000\n",
              "25%     25.750000    6.575000    3.275000  ...     3.70000    3.400000      6.000000\n",
              "50%     50.500000    8.000000    3.600000  ...     4.40000    3.900000      7.050000\n",
              "75%     75.250000    9.100000    3.925000  ...     4.80000    4.425000      7.625000\n",
              "max    100.000000   10.000000    5.700000  ...     6.70000    5.500000      9.900000\n",
              "\n",
              "[8 rows x 13 columns]"
            ]
          },
          "metadata": {},
          "execution_count": 21
        }
      ]
    },
    {
      "cell_type": "code",
      "source": [
        "df.shape[1]+1"
      ],
      "metadata": {
        "colab": {
          "base_uri": "https://localhost:8080/"
        },
        "id": "ZNaTOpPy3Q5S",
        "outputId": "6090b5d9-2f6c-4438-b3de-d6897073f45b"
      },
      "execution_count": null,
      "outputs": [
        {
          "output_type": "execute_result",
          "data": {
            "text/plain": [
              "14"
            ]
          },
          "metadata": {},
          "execution_count": 22
        }
      ]
    },
    {
      "cell_type": "code",
      "source": [
        "ev1,v1 =fa.get_eigenvalues()"
      ],
      "metadata": {
        "id": "DjyXzMzn4d-f"
      },
      "execution_count": null,
      "outputs": []
    },
    {
      "cell_type": "code",
      "source": [
        "# Create scree plot using matplotlib\n",
        "plt.scatter(range(1,df.shape[1]+1),ev)\n",
        "plt.plot(range(1,df.shape[1]+1),ev)\n",
        "plt.title('Scree Plot')\n",
        "plt.xlabel('Factors')\n",
        "plt.ylabel('Eigenvalue')\n",
        "plt.grid()\n",
        "plt.show()"
      ],
      "metadata": {
        "colab": {
          "base_uri": "https://localhost:8080/",
          "height": 295
        },
        "id": "jWBJN5_G33pW",
        "outputId": "2c0a7246-456e-4ed5-85d9-611b8f9f890a"
      },
      "execution_count": null,
      "outputs": [
        {
          "output_type": "display_data",
          "data": {
            "image/png": "[encoded data removed]",
            "text/plain": [
              "<Figure size 432x288 with 1 Axes>"
            ]
          },
          "metadata": {
            "needs_background": "light"
          }
        }
      ]
    },
    {
      "cell_type": "code",
      "source": [
        "# Create scree plot using matplotlib\n",
        "plt.scatter(range(1,df.shape[1]+1),ev1)\n",
        "plt.plot(range(1,df.shape[1]+1),ev1)\n",
        "plt.title('Scree Plot')\n",
        "plt.xlabel('Factors')\n",
        "plt.ylabel('Eigenvalue')\n",
        "plt.grid()\n",
        "plt.show()"
      ],
      "metadata": {
        "colab": {
          "base_uri": "https://localhost:8080/",
          "height": 295
        },
        "id": "9q_OsHVNTUJj",
        "outputId": "d725b3bb-4c43-4aea-d56c-f55124d444e5"
      },
      "execution_count": null,
      "outputs": [
        {
          "output_type": "display_data",
          "data": {
            "image/png": "[encoded data removed]",
            "text/plain": [
              "<Figure size 432x288 with 1 Axes>"
            ]
          },
          "metadata": {
            "needs_background": "light"
          }
        }
      ]
    },
    {
      "cell_type": "code",
      "source": [
        "fa.get_factor_variance()"
      ],
      "metadata": {
        "colab": {
          "base_uri": "https://localhost:8080/"
        },
        "id": "IhzgLyHY5l10",
        "outputId": "305939b5-3c2d-4237-ee00-17fbc524eac3"
      },
      "execution_count": null,
      "outputs": [
        {
          "output_type": "execute_result",
          "data": {
            "text/plain": [
              "(array([2.89470866, 2.27245218, 1.72492051, 1.68236419]),\n",
              " array([0.2226699 , 0.17480401, 0.13268619, 0.12941263]),\n",
              " array([0.2226699 , 0.39747391, 0.5301601 , 0.65957273]))"
            ]
          },
          "metadata": {},
          "execution_count": 36
        }
      ]
    },
    {
      "cell_type": "code",
      "source": [
        "fa.get_communalities()#Amount of variance a variable shared with other variable"
      ],
      "metadata": {
        "colab": {
          "base_uri": "https://localhost:8080/"
        },
        "id": "B1sMg33h5vO1",
        "outputId": "a905f1da-7f17-4934-e1fc-f2804b439da1"
      },
      "execution_count": null,
      "outputs": [
        {
          "output_type": "execute_result",
          "data": {
            "text/plain": [
              "array([0.03411031, 0.16540173, 0.64333508, 0.77667419, 0.8089196 ,\n",
              "       0.32117254, 0.61036219, 1.09423856, 0.26135184, 0.82164486,\n",
              "       0.58806695, 0.86472613, 0.59036402])"
            ]
          },
          "metadata": {},
          "execution_count": 27
        }
      ]
    },
    {
      "cell_type": "code",
      "source": [
        "fa.get_uniquenesses()"
      ],
      "metadata": {
        "colab": {
          "base_uri": "https://localhost:8080/"
        },
        "id": "M0x4GPrh52v6",
        "outputId": "cf88ca4a-a52d-443e-ebf0-5ecd86ededfe"
      },
      "execution_count": null,
      "outputs": [
        {
          "output_type": "execute_result",
          "data": {
            "text/plain": [
              "array([ 0.96588969,  0.83459827,  0.35666492,  0.22332581,  0.1910804 ,\n",
              "        0.67882746,  0.38963781, -0.09423856,  0.73864816,  0.17835514,\n",
              "        0.41193305,  0.13527387,  0.40963598])"
            ]
          },
          "metadata": {},
          "execution_count": 28
        }
      ]
    },
    {
      "cell_type": "markdown",
      "source": [
        "#Conclusion:We have analyse the dataset weather it is appropriate for factor analysis or not. We have reduced the dimensions by creating factors."
      ],
      "metadata": {
        "id": "QYkTwwx6KwuN"
      }
    },
    {
      "cell_type": "markdown",
      "source": [
        "#Dataset link:https://www.kaggle.com/ipravin/hair-customer-survey-data-for-100-customers\n",
        "#Name:Sakshi Deo\n"
      ],
      "metadata": {
        "id": "Wuv8lbJ5KoxQ"
      }
    }
  ]
}